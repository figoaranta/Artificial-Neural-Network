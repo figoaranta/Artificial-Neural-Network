{
 "cells": [
  {
   "cell_type": "code",
   "execution_count": 8,
   "id": "e5496ed0",
   "metadata": {},
   "outputs": [],
   "source": [
    "import numpy as np\n",
    "import tensorflow as tf\n",
    "import math\n",
    "import logging\n",
    "logging.basicConfig(level=logging.DEBUG)\n",
    "import matplotlib.pyplot as plt\n",
    "import warnings\n",
    "\n",
    "warnings.filterwarnings('ignore')"
   ]
  },
  {
   "cell_type": "code",
   "execution_count": 9,
   "id": "4850f344",
   "metadata": {},
   "outputs": [],
   "source": [
    "#Network parameters\n",
    "n_hidden1 = 10\n",
    "n_hidden2 = 10\n",
    "n_input = 2\n",
    "n_output = 2\n",
    "\n",
    "#Learning parameters\n",
    "learning_constant = 0.2\n",
    "number_epochs = 1000\n",
    "batch_size = 1000"
   ]
  },
  {
   "cell_type": "code",
   "execution_count": 14,
   "id": "9d61691b",
   "metadata": {},
   "outputs": [],
   "source": [
    "#Defining the input and the output\n",
    "X = tf.placeholder(\"float\", [None, n_input])\n",
    "Y = tf.placeholder(\"float\", [None, n_output])\n",
    "#DEFINING WEIGHTS AND BIASES\n",
    "#Biases first hidden layer\n",
    "b1 = tf.Variable(tf.random_normal([n_hidden1]))\n",
    "#Biases second hidden layer\n",
    "b2 = tf.Variable(tf.random_normal([n_hidden2]))\n",
    "#Biases output layer\n",
    "b3 = tf.Variable(tf.random_normal([n_output]))\n",
    "#Weights connecting input layer with first hidden layer\n",
    "w1 = tf.Variable(tf.random_normal([n_input, n_hidden1]))\n",
    "#Weights connecting first hidden layer with second hidden layer\n",
    "w2 = tf.Variable(tf.random_normal([n_hidden1, n_hidden2]))\n",
    "#Weights connecting second hidden layer with output layer\n",
    "w3 = tf.Variable(tf.random_normal([n_hidden2, n_output]))\n"
   ]
  },
  {
   "cell_type": "code",
   "execution_count": 16,
   "id": "8f913923",
   "metadata": {},
   "outputs": [],
   "source": [
    "def multilayer_perceptron(input_d):\n",
    " #Task of neurons of first hidden layer\n",
    " layer_1 = tf.nn.sigmoid(tf.add(tf.matmul(input_d, w1), b1))\n",
    " #Task of neurons of second hidden layer\n",
    " layer_2 = tf.nn.sigmoid(tf.add(tf.matmul(layer_1, w2), b2))\n",
    " #Task of neurons of output layer\n",
    " out_layer = tf.add(tf.matmul(layer_2, w3),b3)\n",
    "\n",
    " return out_layer"
   ]
  },
  {
   "cell_type": "code",
   "execution_count": 19,
   "id": "a940886c",
   "metadata": {},
   "outputs": [],
   "source": [
    "neural_network = multilayer_perceptron(X)"
   ]
  },
  {
   "cell_type": "code",
   "execution_count": 22,
   "id": "55177884",
   "metadata": {},
   "outputs": [],
   "source": [
    "#Define loss and optimizer\n",
    "loss_op = tf.reduce_mean(tf.math.squared_difference(neural_network,Y))\n",
    "#loss_op =\n",
    "tf.reduce_mean(tf.nn.softmax_cross_entropy_with_logits(logits=neural_network,labels=Y))\n",
    "optimizer =tf.train.GradientDescentOptimizer(learning_constant).minimize(loss_op)"
   ]
  },
  {
   "cell_type": "code",
   "execution_count": 23,
   "id": "eb8f1543",
   "metadata": {},
   "outputs": [
    {
     "name": "stdout",
     "output_type": "stream",
     "text": [
      "WARNING:tensorflow:From /var/folders/r8/hhwbw22x3yz2qpd1614sdcnm0000gn/T/ipykernel_1469/1761790396.py:2: The name tf.global_variables_initializer is deprecated. Please use tf.compat.v1.global_variables_initializer instead.\n",
      "\n"
     ]
    },
    {
     "name": "stderr",
     "output_type": "stream",
     "text": [
      "WARNING:tensorflow:From /var/folders/r8/hhwbw22x3yz2qpd1614sdcnm0000gn/T/ipykernel_1469/1761790396.py:2: The name tf.global_variables_initializer is deprecated. Please use tf.compat.v1.global_variables_initializer instead.\n",
      "\n"
     ]
    }
   ],
   "source": [
    "#Initializing the variables\n",
    "init = tf.global_variables_initializer()"
   ]
  },
  {
   "cell_type": "code",
   "execution_count": null,
   "id": "87cecf59",
   "metadata": {},
   "outputs": [],
   "source": [
    "batch_x1=np.loadtxt('x1.txt')\n",
    "batch_x2=np.loadtxt('x2.txt')\n",
    "batch_y1=np.loadtxt('y1.txt')\n",
    "batch_y2=np.loadtxt('y2.txt')\n",
    "label=batch_y2#+1e-50-1e-50\n",
    "batch_x=np.column_stack((batch_x1, batch_x2))\n",
    "batch_y=np.column_stack((batch_y1, batch_y2))\n",
    "batch_x_train=batch_x[:,0:599]\n",
    "batch_y_train=batch_y[:,0:599]\n",
    "batch_x_test=batch_x[:,600:1000]\n",
    "batch_y_test=batch_y[:,600:1000]\n",
    "label_train=label[0:599]\n",
    "label_test=label[600:1000]"
   ]
  },
  {
   "cell_type": "code",
   "execution_count": null,
   "id": "18c54400",
   "metadata": {},
   "outputs": [],
   "source": [
    "with tf.Session() as sess:\n",
    "    sess.run(init)\n",
    "    #Training epoch\n",
    "    for epoch in range(number_epochs):\n",
    "        sess.run(optimizer, feed_dict={X: batch_x_train, Y:batch_y_train})\n",
    "        #Display the epoch\n",
    "        if epoch % 100 == 0:\n",
    "            print(\"Epoch:\", '%d' % (epoch))\n",
    " # Test model\n",
    "    pred = (neural_network) # Apply softmax to logits\n",
    "    accuracy=tf.keras.losses.MSE(pred,Y)\n",
    "    print(\"Accuracy:\", accuracy.eval({X: batch_x_train, Y:batch_y_train}))\n",
    "    #tf.keras.evaluate(pred,batch_x)\n",
    "    print(\"Prediction:\", pred.eval({X: batch_x_train}))\n",
    "    output=neural_network.eval({X: batch_x_train})\n",
    "    plt.plot(batch_y_train[0:10], 'ro', output[0:10], 'bo')\n",
    "    plt.ylabel('some numbers')\n",
    "    plt.show()\n",
    "    \n",
    "    estimated_class=tf.argmax(pred, 1)#+1e-50-1e-50\n",
    "    correct_prediction1 = tf.equal(tf.argmax(pred, 1),label)\n",
    "    accuracy1 = tf.reduce_mean(tf.cast(correct_prediction1, tf.float32))\n",
    "    print(accuracy1.eval({X: batch_x}))"
   ]
  }
 ],
 "metadata": {
  "kernelspec": {
   "display_name": "Python 3 (ipykernel)",
   "language": "python",
   "name": "python3"
  },
  "language_info": {
   "codemirror_mode": {
    "name": "ipython",
    "version": 3
   },
   "file_extension": ".py",
   "mimetype": "text/x-python",
   "name": "python",
   "nbconvert_exporter": "python",
   "pygments_lexer": "ipython3",
   "version": "3.7.11"
  }
 },
 "nbformat": 4,
 "nbformat_minor": 5
}
